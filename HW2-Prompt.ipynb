{
 "cells": [
  {
   "cell_type": "code",
   "execution_count": 1,
   "metadata": {},
   "outputs": [
    {
     "name": "stderr",
     "output_type": "stream",
     "text": [
      "C:\\Users\\mason\\AppData\\Local\\Packages\\PythonSoftwareFoundation.Python.3.11_qbz5n2kfra8p0\\LocalCache\\local-packages\\Python311\\site-packages\\tqdm\\auto.py:21: TqdmWarning: IProgress not found. Please update jupyter and ipywidgets. See https://ipywidgets.readthedocs.io/en/stable/user_install.html\n",
      "  from .autonotebook import tqdm as notebook_tqdm\n"
     ]
    }
   ],
   "source": [
    "import textwrap\n",
    "from IPython.display import Markdown\n",
    "import google.generativeai as genai\n",
    "\n",
    "\n",
    "genai.configure(api_key=\"KEY\")"
   ]
  },
  {
   "cell_type": "code",
   "execution_count": 2,
   "metadata": {},
   "outputs": [],
   "source": [
    "def to_markdown(text):\n",
    "  text = text.replace('•', '  *')\n",
    "  return Markdown(textwrap.indent(text, '> ', predicate=lambda _: True))"
   ]
  },
  {
   "cell_type": "code",
   "execution_count": 3,
   "metadata": {},
   "outputs": [],
   "source": [
    "def AC_control(instruction):\n",
    "  Rule_prompt = '''問題: 外頭現在 32 度，我應該把室內溫度設定為多少比較好？, 答案: 根據基本原則，室內外的溫差最好間距在 5 度，所以室內溫度應該設定為 27 度。\n",
    "                  問題: 今天外面 30 度，室內溫度應該調到多少？, 答案: 室內溫度應該設定為 25 度，這樣可以保持室內外溫差在 5 度左右。\n",
    "  '''\n",
    "  final_prompt = Rule_prompt + instruction\n",
    "  model = genai.GenerativeModel('gemini-1.5-pro-latest')\n",
    "  response = model.generate_content(final_prompt, stream=True)\n",
    "  response.resolve()\n",
    "  return to_markdown(response.text)\n",
    "\n",
    "instruction = \"外頭現在 27 度，好熱，我應該把室內溫度調到多少？\""
   ]
  },
  {
   "cell_type": "code",
   "execution_count": 4,
   "metadata": {},
   "outputs": [
    {
     "data": {
      "text/markdown": [
       "> 答案：室內溫度建議設定在 22 度，這樣可以保持室內外溫差在 5 度左右。 \n"
      ],
      "text/plain": [
       "<IPython.core.display.Markdown object>"
      ]
     },
     "execution_count": 4,
     "metadata": {},
     "output_type": "execute_result"
    }
   ],
   "source": [
    "AC_control(instruction)"
   ]
  },
  {
   "cell_type": "code",
   "execution_count": 5,
   "metadata": {},
   "outputs": [],
   "source": [
    "#curtain control\n",
    "def CC(instruction):\n",
    "  Rule_prompt = '''問題:戶外陽光好強，我該怎麼辦? 答案:關閉窗簾 \n",
    "  問題:我眼睛被陽光照的好不舒服，怎麼辦? 答案:關閉窗簾 \n",
    "  問題:我覺得室內不夠亮，怎麼解決? 答案:打開窗簾\n",
    "  '''\n",
    "  final_prompt = Rule_prompt + instruction\n",
    "  model = genai.GenerativeModel('gemini-1.5-pro-latest')\n",
    "  response = model.generate_content(final_prompt, stream=True)\n",
    "  response.resolve()\n",
    "  return to_markdown(response.text)\n",
    "\n",
    "instruction = \"室外陽光好大，怎麼辦?\""
   ]
  },
  {
   "cell_type": "code",
   "execution_count": 6,
   "metadata": {},
   "outputs": [
    {
     "data": {
      "text/markdown": [
       "> 答案:關閉窗簾 \n"
      ],
      "text/plain": [
       "<IPython.core.display.Markdown object>"
      ]
     },
     "execution_count": 6,
     "metadata": {},
     "output_type": "execute_result"
    }
   ],
   "source": [
    "CC(instruction)"
   ]
  }
 ],
 "metadata": {
  "kernelspec": {
   "display_name": "Python 3",
   "language": "python",
   "name": "python3"
  },
  "language_info": {
   "codemirror_mode": {
    "name": "ipython",
    "version": 3
   },
   "file_extension": ".py",
   "mimetype": "text/x-python",
   "name": "python",
   "nbconvert_exporter": "python",
   "pygments_lexer": "ipython3",
   "version": "3.11.9"
  }
 },
 "nbformat": 4,
 "nbformat_minor": 2
}
